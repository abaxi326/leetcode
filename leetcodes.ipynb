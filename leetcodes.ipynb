{
 "cells": [
  {
   "cell_type": "code",
   "execution_count": null,
   "id": "d6e15b3c",
   "metadata": {},
   "outputs": [],
   "source": [
    "a=[-11,10,23,l5,-22,6,1,-89,90,-11]\n",
    "a.sort()"
   ]
  },
  {
   "cell_type": "code",
   "execution_count": 25,
   "id": "08f83cdb",
   "metadata": {},
   "outputs": [
    {
     "data": {
      "text/plain": [
       "[-22, 1, 6, 10, 11, 11, 23, 45, 89, 90]"
      ]
     },
     "execution_count": 25,
     "metadata": {},
     "output_type": "execute_result"
    }
   ],
   "source": [
    "a"
   ]
  },
  {
   "cell_type": "code",
   "execution_count": null,
   "id": "e55f15ba",
   "metadata": {},
   "outputs": [
    {
     "name": "stdout",
     "output_type": "stream",
     "text": [
      "4 5\n"
     ]
    }
   ],
   "source": [
    "for i in range(len(a)-2):    \n",
    "    j=i+1\n",
    "    k=len(a)-1\n",
    "    target=-a[i]\n",
    "    while j<k:\n",
    "        if a[j]<0 & a[k]<0:\n",
    "            \n",
    "            break\n",
    "        elif a[j]+a[k]>target:\n",
    "            k=k-1\n",
    "        else: \n",
    "            j=j+1\n",
    "\n",
    "\n",
    "    "
   ]
  },
  {
   "cell_type": "code",
   "execution_count": 27,
   "id": "8d1fb68b",
   "metadata": {},
   "outputs": [],
   "source": [
    "def swap(a,i,j):\n",
    "    t=a[i]\n",
    "    a[i]=a[j]\n",
    "    a[j]=t\n"
   ]
  },
  {
   "cell_type": "code",
   "execution_count": 36,
   "id": "1838a160",
   "metadata": {},
   "outputs": [],
   "source": [
    "a = [-22, 1, 6, 10, 11, 11, 23, 45, 89, 90]\n",
    "k=85\n",
    "a.sort()"
   ]
  },
  {
   "cell_type": "code",
   "execution_count": 38,
   "id": "cc0f0e64",
   "metadata": {},
   "outputs": [
    {
     "name": "stdout",
     "output_type": "stream",
     "text": [
      "7 7\n"
     ]
    }
   ],
   "source": [
    "i=0\n",
    "j=len(a)-1\n",
    "max=0\n",
    "while i<j:\n",
    "    if a[i]+a[j]<k:\n",
    "       if a[i]+a[j]>max:\n",
    "           max=a[i]+a[j]\n",
    "       i=i+1\n",
    "    else:\n",
    "        j=j-1\n",
    "   \n",
    "print(i,j)\n"
   ]
  },
  {
   "cell_type": "code",
   "execution_count": null,
   "id": "1a436e83",
   "metadata": {},
   "outputs": [],
   "source": [
    "i,j=0,3\n",
    "max=0\n",
    "sum=0\n",
    "for k in range(i,j):\n",
    "    sum+=a[k]\n",
    "max=sum\n",
    "while j<len(a)-1:\n",
    "    sum=sum-a[i]\n",
    "    sum=sum+a[j]\n",
    "    i,j=i+1,j+1\n",
    "    if max<sum:\n",
    "        max=sum\n",
    "    "
   ]
  },
  {
   "cell_type": "code",
   "execution_count": 46,
   "id": "0340f00e",
   "metadata": {},
   "outputs": [],
   "source": [
    "map={}\n",
    "\n",
    "str='ABhishekbaxiisgooodooass'\n",
    "\n",
    "for i in str:\n",
    "    if i in map:\n",
    "        map[i]+=1\n",
    "    else:\n",
    "        map[i]=1"
   ]
  },
  {
   "cell_type": "code",
   "execution_count": null,
   "id": "46228794",
   "metadata": {},
   "outputs": [
    {
     "ename": "SyntaxError",
     "evalue": "incomplete input (3450806818.py, line 1)",
     "output_type": "error",
     "traceback": [
      "  \u001b[36mCell\u001b[39m\u001b[36m \u001b[39m\u001b[32mIn[48]\u001b[39m\u001b[32m, line 1\u001b[39m\n\u001b[31m    \u001b[39m\u001b[31mdef count(s,k):\u001b[39m\n                   ^\n\u001b[31mSyntaxError\u001b[39m\u001b[31m:\u001b[39m incomplete input\n"
     ]
    }
   ],
   "source": [
    "def count(s,k):\n",
    "    distinctCnt=0\n",
    "    freq={}\n",
    "    for j in range(len(s)):\n",
    "        if s[j] in freq:\n",
    "            freq[s[j]]+=1\n",
    "        else:\n",
    "            freq[s[j]]=1\n",
    "        if freq[s[j]]==1:\n",
    "            distinctCnt+=1\n",
    "        \n",
    "        while distinctCnt>k:\n",
    "            freq[s[i]]-=1\n",
    "            if freq[s[i]]==0:\n",
    "                distinctCnt-=1\n",
    "        \n",
    "        "
   ]
  },
  {
   "cell_type": "code",
   "execution_count": 62,
   "id": "f3c3a243",
   "metadata": {},
   "outputs": [
    {
     "data": {
      "text/plain": [
       "3"
      ]
     },
     "execution_count": 62,
     "metadata": {},
     "output_type": "execute_result"
    }
   ],
   "source": [
    "str='aaab'\n",
    "ans=0\n",
    "i=0\n",
    "distinctCnt=0\n",
    "freq={}\n",
    "for j in range(len(str)):\n",
    "    if str[j] in freq:\n",
    "        # freq[str[j]]-=1\n",
    "        freq[str[j]]=1\n",
    "        i+=1\n",
    "    else:\n",
    "        freq[str[j]]=1\n",
    "        ans=ans+j-i+1\n",
    "\n",
    "    \n",
    "\n",
    "ans"
   ]
  },
  {
   "cell_type": "code",
   "execution_count": 77,
   "id": "e0de2ca2",
   "metadata": {},
   "outputs": [
    {
     "name": "stdout",
     "output_type": "stream",
     "text": [
      "12\n",
      "124\n",
      "24\n",
      "4\n"
     ]
    }
   ],
   "source": [
    "str='124'\n",
    "\n",
    "for i in range(0,len(str)):\n",
    "    for j in range(i+1,len(str)+1):\n",
    "        # print(str[i:j])\n",
    "        k=int(str[i:j])\n",
    "\n",
    "        if k%4==0:\n",
    "            print(str[i:j])\n",
    "     \n",
    "\n",
    "\n",
    "\n"
   ]
  },
  {
   "cell_type": "code",
   "execution_count": 4,
   "id": "82497811",
   "metadata": {},
   "outputs": [
    {
     "data": {
      "text/plain": [
       "3"
      ]
     },
     "execution_count": 4,
     "metadata": {},
     "output_type": "execute_result"
    }
   ],
   "source": [
    "s='abcabcbb'\n",
    "\n",
    "i,j=0,0\n",
    "f={}\n",
    "distinctCnt=0\n",
    "max1=0\n",
    "while(j<len(s)):\n",
    "    if s[j] not in f:\n",
    "        f[s[j]]=1\n",
    "        j+=1\n",
    "    else:\n",
    "        while(s[j] in f):\n",
    "            del f[s[i]]\n",
    "            i+=1\n",
    "    if max1< (j-i):\n",
    "        max1=j-i\n",
    "max1       "
   ]
  },
  {
   "cell_type": "code",
   "execution_count": null,
   "id": "39393d60",
   "metadata": {},
   "outputs": [
    {
     "data": {
      "text/plain": [
       "4"
      ]
     },
     "execution_count": 82,
     "metadata": {},
     "output_type": "execute_result"
    }
   ],
   "source": [
    "def lengthOfLongestSubstring(self, s: str) -> int:\n",
    "    i,j=0,0\n",
    "    f={}\n",
    "    distinctCnt=0\n",
    "    max1=0\n",
    "    while(j<len(s)):\n",
    "        if s[j] not in f:\n",
    "            f[s[j]]=1\n",
    "            j+=1\n",
    "        else:\n",
    "            while(s[j] in f):\n",
    "                del f[s[i]]\n",
    "                i+=1\n",
    "        if max1< (j-i):\n",
    "            max1=j-i\n",
    "        return max1\n",
    "        "
   ]
  },
  {
   "cell_type": "code",
   "execution_count": null,
   "id": "341e37d5",
   "metadata": {},
   "outputs": [
    {
     "name": "stdout",
     "output_type": "stream",
     "text": [
      "{'word': 1}\n",
      "{'word': 1, 'good': 1}\n",
      "{'good': 1}\n",
      "{}\n",
      "{'good': 1}\n",
      "{}\n",
      "{'good': 1}\n",
      "{'good': 1, 'best': 1}\n",
      "{'good': 1, 'best': 1, 'word': 1}\n"
     ]
    },
    {
     "data": {
      "text/plain": [
       "[]"
      ]
     },
     "execution_count": 32,
     "metadata": {},
     "output_type": "execute_result"
    }
   ],
   "source": [
    "i,j=0,0\n",
    "sol=[]\n",
    "s='wordgoodgoodgoodbestword'\n",
    "words=[\"word\",\"good\",\"best\",\"good\"]\n",
    "f_c={}\n",
    "for i in words:\n",
    "    if i in f_c:\n",
    "        f_c[i]+=1\n",
    "    else:\n",
    "        f_c[i]=1\n",
    "    \n",
    "l=len(words[0])\n",
    "f={}\n",
    "while(j<len(s)):\n",
    "    if s[j:j+l] in words:\n",
    "        if s[j:j+l] not in f:\n",
    "            f[s[j:j+l]]=1\n",
    "            if len(f)==len(words):\n",
    "                sol.append(i)\n",
    "            print(f)\n",
    "            j=j+l\n",
    "            \n",
    "        else:\n",
    "            del f[s[i:i+l]]\n",
    "            print(f)\n",
    "            i=i+l\n",
    "\n",
    "    else:\n",
    "        print(f\"No at {i}\")\n",
    "        # sol.append(i)\n",
    "        while(s[i:i+l]) in words:\n",
    "            del f[s[i:i+l]]\n",
    "            i=i+l\n",
    "        j=j+l\n",
    "        i=i+l\n",
    "\n",
    "sol"
   ]
  },
  {
   "cell_type": "code",
   "execution_count": 68,
   "id": "a562887f",
   "metadata": {},
   "outputs": [
    {
     "name": "stdout",
     "output_type": "stream",
     "text": [
      "{1: 1}\n",
      "{1: 1}\n"
     ]
    },
    {
     "ename": "KeyError",
     "evalue": "0",
     "output_type": "error",
     "traceback": [
      "\u001b[31m---------------------------------------------------------------------------\u001b[39m",
      "\u001b[31mKeyError\u001b[39m                                  Traceback (most recent call last)",
      "\u001b[36mCell\u001b[39m\u001b[36m \u001b[39m\u001b[32mIn[68]\u001b[39m\u001b[32m, line 21\u001b[39m\n\u001b[32m     19\u001b[39m         sol=\u001b[38;5;28;01mTrue\u001b[39;00m\n\u001b[32m     20\u001b[39m         \u001b[38;5;28;01mbreak\u001b[39;00m\n\u001b[32m---> \u001b[39m\u001b[32m21\u001b[39m f[nums[i]]=\u001b[43mf\u001b[49m\u001b[43m[\u001b[49m\u001b[43mnums\u001b[49m\u001b[43m[\u001b[49m\u001b[43mi\u001b[49m\u001b[43m]\u001b[49m\u001b[43m]\u001b[49m-\u001b[32m1\u001b[39m\n\u001b[32m     22\u001b[39m i=i+\u001b[32m1\u001b[39m\n\u001b[32m     23\u001b[39m j=j+\u001b[32m1\u001b[39m\n",
      "\u001b[31mKeyError\u001b[39m: 0"
     ]
    }
   ],
   "source": [
    "t=1\n",
    "i,j=0,t\n",
    "nums = [1,0,1,1]\n",
    "f={}\n",
    "sol=False\n",
    "for k in range(0,t):\n",
    "    if nums[k] in f:\n",
    "        f[nums[k]]+=1\n",
    "    else:\n",
    "        f[nums[k]]=1\n",
    "print(f)\n",
    "for k in f.values():\n",
    "    if k>1:\n",
    "        sol=True\n",
    "\n",
    "while(j<len(nums)-1):\n",
    "    for l in f.values():\n",
    "        if l>1:\n",
    "            sol=True\n",
    "            break\n",
    "    f[nums[i]]=f[nums[i]]-1\n",
    "    i=i+1\n",
    "    j=j+1\n",
    "    f[nums[j]]=f[nums[j]]+1\n",
    "    print(f)\n",
    "\n",
    "for l in f.values():\n",
    "        if l>1:\n",
    "            sol=True\n",
    "sol"
   ]
  },
  {
   "cell_type": "code",
   "execution_count": 60,
   "id": "e8cf8525",
   "metadata": {},
   "outputs": [],
   "source": [
    "f[nums[0]]=f[nums[0]]-1"
   ]
  },
  {
   "cell_type": "code",
   "execution_count": 84,
   "id": "c2114ac4",
   "metadata": {},
   "outputs": [],
   "source": [
    "def house(arr,i,sum):\n",
    "    if i>=len(arr):\n",
    "        return sum\n",
    "\n",
    "    return max(house(arr,i+1,sum),house(arr,i+2,sum+arr[i]))\n",
    "\n",
    "\n",
    "arr=[1,2,3,1]\n",
    "sum=house(arr,0,0)"
   ]
  },
  {
   "cell_type": "code",
   "execution_count": null,
   "id": "4cfb0a43",
   "metadata": {},
   "outputs": [
    {
     "ename": "SyntaxError",
     "evalue": "'return' outside function (2649774539.py, line 15)",
     "output_type": "error",
     "traceback": [
      "  \u001b[36mCell\u001b[39m\u001b[36m \u001b[39m\u001b[32mIn[96]\u001b[39m\u001b[32m, line 15\u001b[39m\n\u001b[31m    \u001b[39m\u001b[31mreturn list(set(sol))\u001b[39m\n    ^\n\u001b[31mSyntaxError\u001b[39m\u001b[31m:\u001b[39m 'return' outside function\n"
     ]
    }
   ],
   "source": [
    "nums = [-1,0,1,2,-1,-4]\n",
    "nums.sort()\n",
    "sol=[]\n",
    "for i in range(0,len(nums)):\n",
    "    j,k=i+1,len(nums)-1\n",
    "    while(j<k):\n",
    "        if nums[j]+nums[k]==-nums[i]:\n",
    "            sol.append([nums[i],nums[j],nums[k]])\n",
    "            j+=1\n",
    "            k-=1\n",
    "\n",
    "        elif nums[j]+nums[k] < -nums[i]:\n",
    "            j=j+1\n",
    "        else:\n",
    "            k=k-1\n",
    "\n",
    "return list(k for k,_ in sol))\n"
   ]
  },
  {
   "cell_type": "code",
   "execution_count": 102,
   "id": "01c03993",
   "metadata": {},
   "outputs": [
    {
     "name": "stdout",
     "output_type": "stream",
     "text": [
      "4\n"
     ]
    }
   ],
   "source": [
    "s=[1,2,3,4,4,5,1,2,3,4,6,7,8,9]\n",
    "k=4\n",
    "i,j=0,0\n",
    "distinct=0\n",
    "f={}\n",
    "ans=0\n",
    "while(j<len(s)):\n",
    "    if s[j] not in f:\n",
    "        f[s[j]]=1\n",
    "        j=j+1\n",
    "        distinct=distinct+1\n",
    "    else:\n",
    "        while(distinct>k):\n",
    "            del f[s[i]]\n",
    "            i=i+1\n",
    "            distinct-=1\n",
    "            print(distinct)\n",
    "        j=j+1\n",
    "    \n",
    "    ans=ans+j-i+1\n"
   ]
  },
  {
   "cell_type": "code",
   "execution_count": 108,
   "id": "cc59cb5a",
   "metadata": {},
   "outputs": [
    {
     "ename": "KeyError",
     "evalue": "'b'",
     "output_type": "error",
     "traceback": [
      "\u001b[31m---------------------------------------------------------------------------\u001b[39m",
      "\u001b[31mKeyError\u001b[39m                                  Traceback (most recent call last)",
      "\u001b[36mCell\u001b[39m\u001b[36m \u001b[39m\u001b[32mIn[108]\u001b[39m\u001b[32m, line 17\u001b[39m\n\u001b[32m     15\u001b[39m ans+=\u001b[32m1\u001b[39m\n\u001b[32m     16\u001b[39m \u001b[38;5;28;01mwhile\u001b[39;00m(\u001b[38;5;28mlen\u001b[39m(f)>\u001b[32m0\u001b[39m):\n\u001b[32m---> \u001b[39m\u001b[32m17\u001b[39m     \u001b[38;5;28;01mdel\u001b[39;00m \u001b[43mf\u001b[49m\u001b[43m[\u001b[49m\u001b[43ms\u001b[49m\u001b[43m[\u001b[49m\u001b[43mi\u001b[49m\u001b[43m]\u001b[49m\u001b[43m]\u001b[49m\n\u001b[32m     18\u001b[39m i+=\u001b[32m1\u001b[39m\n\u001b[32m     19\u001b[39m j+=\u001b[32m1\u001b[39m\n",
      "\u001b[31mKeyError\u001b[39m: 'b'"
     ]
    }
   ],
   "source": [
    "i,j=0,0\n",
    "ans=0\n",
    "max1=0\n",
    "f={}\n",
    "distinct=0\n",
    "s = \"abaanndscx\"\n",
    "while(j<len(s)):\n",
    "    if s[j] in f and len(f)==1:\n",
    "        f[s[j]]=1\n",
    "        j+=1\n",
    "    elif s[j] not in f and len(f)==0:\n",
    "        f[s[j]]=1\n",
    "        j+=1\n",
    "    else:\n",
    "        ans+=1\n",
    "        while(len(f)>0):\n",
    "            del f[s[i]]\n",
    "        i+=1\n",
    "        j+=1\n",
    "\n",
    "ans=ans+1\n",
    "    \n",
    "        \n",
    "\n"
   ]
  },
  {
   "cell_type": "code",
   "execution_count": 107,
   "id": "6f9cb6a5",
   "metadata": {},
   "outputs": [
    {
     "data": {
      "text/plain": [
       "1"
      ]
     },
     "execution_count": 107,
     "metadata": {},
     "output_type": "execute_result"
    }
   ],
   "source": [
    "ans"
   ]
  },
  {
   "cell_type": "code",
   "execution_count": 121,
   "id": "f770f43d",
   "metadata": {},
   "outputs": [],
   "source": [
    "def backtrack(s,path,i):\n",
    "    if i==len(s):\n",
    "        print(path)\n",
    "        return\n",
    "    \n",
    "    path.append(s[i])\n",
    "    backtrack(s,path,i+1)\n",
    "    path.pop()\n",
    "    backtrack(s,path,i+1)\n",
    "\n"
   ]
  },
  {
   "cell_type": "code",
   "execution_count": 122,
   "id": "9744d1a2",
   "metadata": {},
   "outputs": [
    {
     "name": "stdout",
     "output_type": "stream",
     "text": [
      "[1, 2, 3]\n",
      "[1, 2]\n",
      "[1, 3]\n",
      "[1]\n",
      "[2, 3]\n",
      "[2]\n",
      "[3]\n",
      "[]\n"
     ]
    }
   ],
   "source": [
    "backtrack([1,2,3],[],0)"
   ]
  },
  {
   "cell_type": "code",
   "execution_count": 129,
   "id": "737fdd5d",
   "metadata": {},
   "outputs": [
    {
     "data": {
      "text/plain": [
       "[0, -3, -2, -3]"
      ]
     },
     "execution_count": 129,
     "metadata": {},
     "output_type": "execute_result"
    }
   ],
   "source": [
    "i,j=0,1\n",
    "s = [3, 0, 1, 0, 4, 0, 2]\n",
    "sol=[]\n",
    "while(j<len(s)):\n",
    "    if j==len(s)-1:\n",
    "        m=min(s[i],s[j])\n",
    "        while(i==len(s)-1):\n",
    "            sol.append(s[i]-m)\n",
    "        j+=1\n",
    "    elif s[i]>s[j]:\n",
    "        j+=1\n",
    "    else:\n",
    "        m=min(s[i],s[j])\n",
    "        while(i<j):\n",
    "            sol.append(s[i]-m)\n",
    "            i=i+1\n",
    "        j+=1\n",
    "            \n",
    "sol\n",
    "\n"
   ]
  },
  {
   "cell_type": "code",
   "execution_count": 128,
   "id": "bdecd3db",
   "metadata": {},
   "outputs": [
    {
     "data": {
      "text/plain": [
       "[0, 0, -1, 0, -1, -2, -1]"
      ]
     },
     "execution_count": 128,
     "metadata": {},
     "output_type": "execute_result"
    }
   ],
   "source": [
    "sol"
   ]
  },
  {
   "cell_type": "code",
   "execution_count": 133,
   "id": "964f1e9d",
   "metadata": {},
   "outputs": [
    {
     "ename": "AttributeError",
     "evalue": "'NoneType' object has no attribute 'append'",
     "output_type": "error",
     "traceback": [
      "\u001b[31m---------------------------------------------------------------------------\u001b[39m",
      "\u001b[31mAttributeError\u001b[39m                            Traceback (most recent call last)",
      "\u001b[36mCell\u001b[39m\u001b[36m \u001b[39m\u001b[32mIn[133]\u001b[39m\u001b[32m, line 12\u001b[39m\n\u001b[32m      8\u001b[39m         jump(s,sol.append(s[i]),i+j)\n\u001b[32m     11\u001b[39m s=[\u001b[32m1\u001b[39m,\u001b[32m2\u001b[39m,\u001b[32m3\u001b[39m,\u001b[32m4\u001b[39m,\u001b[32m5\u001b[39m]\n\u001b[32m---> \u001b[39m\u001b[32m12\u001b[39m \u001b[43mjump\u001b[49m\u001b[43m(\u001b[49m\u001b[43ms\u001b[49m\u001b[43m,\u001b[49m\u001b[43m[\u001b[49m\u001b[43m]\u001b[49m\u001b[43m,\u001b[49m\u001b[32;43m0\u001b[39;49m\u001b[43m)\u001b[49m\n",
      "\u001b[36mCell\u001b[39m\u001b[36m \u001b[39m\u001b[32mIn[133]\u001b[39m\u001b[32m, line 8\u001b[39m, in \u001b[36mjump\u001b[39m\u001b[34m(s, sol, i)\u001b[39m\n\u001b[32m      5\u001b[39m     \u001b[38;5;28mprint\u001b[39m(sol)\n\u001b[32m      7\u001b[39m \u001b[38;5;28;01mfor\u001b[39;00m j \u001b[38;5;129;01min\u001b[39;00m \u001b[38;5;28mrange\u001b[39m(s[i]):\n\u001b[32m----> \u001b[39m\u001b[32m8\u001b[39m     \u001b[43mjump\u001b[49m\u001b[43m(\u001b[49m\u001b[43ms\u001b[49m\u001b[43m,\u001b[49m\u001b[43msol\u001b[49m\u001b[43m.\u001b[49m\u001b[43mappend\u001b[49m\u001b[43m(\u001b[49m\u001b[43ms\u001b[49m\u001b[43m[\u001b[49m\u001b[43mi\u001b[49m\u001b[43m]\u001b[49m\u001b[43m)\u001b[49m\u001b[43m,\u001b[49m\u001b[43mi\u001b[49m\u001b[43m+\u001b[49m\u001b[43mj\u001b[49m\u001b[43m)\u001b[49m\n",
      "\u001b[36mCell\u001b[39m\u001b[36m \u001b[39m\u001b[32mIn[133]\u001b[39m\u001b[32m, line 8\u001b[39m, in \u001b[36mjump\u001b[39m\u001b[34m(s, sol, i)\u001b[39m\n\u001b[32m      5\u001b[39m     \u001b[38;5;28mprint\u001b[39m(sol)\n\u001b[32m      7\u001b[39m \u001b[38;5;28;01mfor\u001b[39;00m j \u001b[38;5;129;01min\u001b[39;00m \u001b[38;5;28mrange\u001b[39m(s[i]):\n\u001b[32m----> \u001b[39m\u001b[32m8\u001b[39m     jump(s,\u001b[43msol\u001b[49m\u001b[43m.\u001b[49m\u001b[43mappend\u001b[49m(s[i]),i+j)\n",
      "\u001b[31mAttributeError\u001b[39m: 'NoneType' object has no attribute 'append'"
     ]
    }
   ],
   "source": [
    "def jump(s,sol,i):\n",
    "    if(i>len(s)-1):\n",
    "        return\n",
    "    if i==len(s)-1:\n",
    "        print(sol)\n",
    "\n",
    "    for j in range(s[i]):\n",
    "        jump(s,sol.append(s[i]),i+j)\n",
    "\n",
    "\n",
    "s=[1,2,3,4,5]\n",
    "jump(s,[],0)\n",
    "\n",
    "    \n"
   ]
  },
  {
   "cell_type": "code",
   "execution_count": null,
   "id": "d4189d13",
   "metadata": {},
   "outputs": [
    {
     "ename": "IndexError",
     "evalue": "list index out of range",
     "output_type": "error",
     "traceback": [
      "\u001b[31m---------------------------------------------------------------------------\u001b[39m",
      "\u001b[31mIndexError\u001b[39m                                Traceback (most recent call last)",
      "\u001b[36mCell\u001b[39m\u001b[36m \u001b[39m\u001b[32mIn[137]\u001b[39m\u001b[32m, line 6\u001b[39m\n\u001b[32m      4\u001b[39m cnt=\u001b[32m0\u001b[39m\n\u001b[32m      5\u001b[39m \u001b[38;5;28;01mwhile\u001b[39;00m(j<=\u001b[38;5;28mlen\u001b[39m(s)):\n\u001b[32m----> \u001b[39m\u001b[32m6\u001b[39m     \u001b[38;5;28;01mif\u001b[39;00m \u001b[43ms\u001b[49m\u001b[43m[\u001b[49m\u001b[43mj\u001b[49m\u001b[43m]\u001b[49m==s[i]:\n\u001b[32m      7\u001b[39m         j+=\u001b[32m1\u001b[39m\n\u001b[32m      8\u001b[39m         i+=\u001b[32m1\u001b[39m\n",
      "\u001b[31mIndexError\u001b[39m: list index out of range"
     ]
    }
   ],
   "source": [
    "i,j=0,1\n",
    "s = [\"a\",\"a\",\"b\",\"b\",\"c\",\"c\",\"c\"]\n",
    "sol=[]\n",
    "cnt=0\n",
    "while(j<len(s)):\n",
    "    if s[j]==s[i]:\n",
    "        j+=1\n",
    "        i+=1\n",
    "        cnt+=1\n",
    "    else:\n",
    "        sol.append([s[i],cnt+1])\n",
    "        cnt=0\n",
    "        i+=1\n",
    "        j+=1\n",
    "\n",
    "sol\n",
    "\n",
    "\n",
    "\n"
   ]
  },
  {
   "cell_type": "code",
   "execution_count": 149,
   "id": "a0df6de2",
   "metadata": {},
   "outputs": [
    {
     "name": "stdout",
     "output_type": "stream",
     "text": [
      "10\n"
     ]
    }
   ],
   "source": [
    "nums = [1,1,2,1,1]\n",
    "odd_cnt,cnt,k=0,0,3\n",
    "i,j=0,0\n",
    "\n",
    "while(j<len(nums)):\n",
    "    if nums[j]%2==1:\n",
    "        odd_cnt+=1\n",
    "        j+=1\n",
    "    \n",
    "    if odd_cnt>k:\n",
    "        while odd_cnt>k:\n",
    "            if nums[i]%2==1:\n",
    "                odd_cnt-=1\n",
    "                i+=1\n",
    "            else:\n",
    "                i+=1\n",
    "    j+=1\n",
    "    \n",
    "    cnt+=j-i\n",
    "\n",
    "print(cnt)\n",
    "\n"
   ]
  },
  {
   "cell_type": "code",
   "execution_count": 172,
   "id": "959295e5",
   "metadata": {},
   "outputs": [
    {
     "name": "stdout",
     "output_type": "stream",
     "text": [
      "[0, 0, 0, 0]\n"
     ]
    }
   ],
   "source": [
    "arr=[2,4,9,3]\n",
    "k=0\n",
    "\n",
    "sol=[]\n",
    "for i in range(len(arr)):\n",
    "    sum=0\n",
    "    if k>0:\n",
    "        for j in range(i+1,i+k+1):\n",
    "            print(i,j%len(arr))\n",
    "            sum=sum+arr[j%len(arr)]\n",
    "        sol.append(sum)\n",
    "    else:\n",
    "        for j in range(i-1,i+k-1,-1):\n",
    "            print(i,j%len(arr))\n",
    "            sum=sum+arr[j%len(arr)]\n",
    "        sol.append(sum)\n",
    "\n",
    "print(sol)\n"
   ]
  },
  {
   "cell_type": "code",
   "execution_count": 180,
   "id": "506a1e56",
   "metadata": {},
   "outputs": [
    {
     "data": {
      "text/plain": [
       "False"
      ]
     },
     "execution_count": 180,
     "metadata": {},
     "output_type": "execute_result"
    }
   ],
   "source": [
    "f={}\n",
    "\n",
    "s = \"YazaAay\"\n",
    "s=s.lower()\n",
    "flag=False\n",
    "\n",
    "for i in s:\n",
    "    if i not in f:\n",
    "        f[i]=1\n",
    "    elif i in f:\n",
    "        if f[i]>0:\n",
    "            f[i]-=1\n",
    "            flag=False\n",
    "        else:\n",
    "            f[i]=0\n",
    "            Flag=True\n",
    "f\n",
    "flag\n",
    "\n"
   ]
  },
  {
   "cell_type": "code",
   "execution_count": 189,
   "id": "16e83999",
   "metadata": {},
   "outputs": [],
   "source": [
    "class node:\n",
    "    def __init__(self,data):\n",
    "        self.x=data\n",
    "        self.next=None\n",
    "    \n"
   ]
  },
  {
   "cell_type": "code",
   "execution_count": 188,
   "id": "d8f89bd3",
   "metadata": {},
   "outputs": [],
   "source": [
    "def insert(start,x):\n",
    "    while(start.next is not None):\n",
    "        start=start.next\n",
    "    \n",
    "    start.next=node(x)\n",
    "    "
   ]
  },
  {
   "cell_type": "code",
   "execution_count": 191,
   "id": "21198b94",
   "metadata": {},
   "outputs": [],
   "source": [
    "start=node(10)\n",
    "\n",
    "insert(start,9)"
   ]
  },
  {
   "cell_type": "code",
   "execution_count": 194,
   "id": "c35265ef",
   "metadata": {},
   "outputs": [],
   "source": [
    "def printll(start):\n",
    "    while start is not None:\n",
    "        print(start.x)\n",
    "        start=start.next"
   ]
  },
  {
   "cell_type": "code",
   "execution_count": 200,
   "id": "82f50192",
   "metadata": {},
   "outputs": [
    {
     "ename": "AttributeError",
     "evalue": "'int' object has no attribute 'x'",
     "output_type": "error",
     "traceback": [
      "\u001b[31m---------------------------------------------------------------------------\u001b[39m",
      "\u001b[31mAttributeError\u001b[39m                            Traceback (most recent call last)",
      "\u001b[36mCell\u001b[39m\u001b[36m \u001b[39m\u001b[32mIn[200]\u001b[39m\u001b[32m, line 1\u001b[39m\n\u001b[32m----> \u001b[39m\u001b[32m1\u001b[39m \u001b[43mprintll\u001b[49m\u001b[43m(\u001b[49m\u001b[43mstart\u001b[49m\u001b[43m)\u001b[49m\n",
      "\u001b[36mCell\u001b[39m\u001b[36m \u001b[39m\u001b[32mIn[194]\u001b[39m\u001b[32m, line 3\u001b[39m, in \u001b[36mprintll\u001b[39m\u001b[34m(start)\u001b[39m\n\u001b[32m      1\u001b[39m \u001b[38;5;28;01mdef\u001b[39;00m\u001b[38;5;250m \u001b[39m\u001b[34mprintll\u001b[39m(start):\n\u001b[32m      2\u001b[39m     \u001b[38;5;28;01mwhile\u001b[39;00m start \u001b[38;5;129;01mis\u001b[39;00m \u001b[38;5;129;01mnot\u001b[39;00m \u001b[38;5;28;01mNone\u001b[39;00m:\n\u001b[32m----> \u001b[39m\u001b[32m3\u001b[39m         \u001b[38;5;28;43mprint\u001b[39;49m\u001b[43m(\u001b[49m\u001b[43mstart\u001b[49m\u001b[43m.\u001b[49m\u001b[43mx\u001b[49m\u001b[43m)\u001b[49m\n\u001b[32m      4\u001b[39m         start=start.next\n",
      "\u001b[36mCell\u001b[39m\u001b[36m \u001b[39m\u001b[32mIn[193]\u001b[39m\u001b[32m, line 3\u001b[39m, in \u001b[36mprint\u001b[39m\u001b[34m(start)\u001b[39m\n\u001b[32m      1\u001b[39m \u001b[38;5;28;01mdef\u001b[39;00m\u001b[38;5;250m \u001b[39m\u001b[34mprint\u001b[39m(start):\n\u001b[32m      2\u001b[39m     \u001b[38;5;28;01mwhile\u001b[39;00m start \u001b[38;5;129;01mis\u001b[39;00m \u001b[38;5;129;01mnot\u001b[39;00m \u001b[38;5;28;01mNone\u001b[39;00m:\n\u001b[32m----> \u001b[39m\u001b[32m3\u001b[39m         \u001b[38;5;28mprint\u001b[39m(\u001b[43mstart\u001b[49m\u001b[43m.\u001b[49m\u001b[43mx\u001b[49m)\n\u001b[32m      4\u001b[39m         start=start.next\n",
      "\u001b[31mAttributeError\u001b[39m: 'int' object has no attribute 'x'"
     ]
    }
   ],
   "source": [
    "printll(start)"
   ]
  },
  {
   "cell_type": "code",
   "execution_count": null,
   "id": "e71e9048",
   "metadata": {},
   "outputs": [
    {
     "ename": "KeyError",
     "evalue": "'D'",
     "output_type": "error",
     "traceback": [
      "\u001b[31m---------------------------------------------------------------------------\u001b[39m",
      "\u001b[31mKeyError\u001b[39m                                  Traceback (most recent call last)",
      "\u001b[36mCell\u001b[39m\u001b[36m \u001b[39m\u001b[32mIn[208]\u001b[39m\u001b[32m, line 15\u001b[39m\n\u001b[32m     13\u001b[39m         min_len=j-i\n\u001b[32m     14\u001b[39m     \u001b[38;5;28;01mwhile\u001b[39;00m (\u001b[38;5;28mlen\u001b[39m(f)==\u001b[38;5;28mlen\u001b[39m(t)):\n\u001b[32m---> \u001b[39m\u001b[32m15\u001b[39m         \u001b[38;5;28;01mdel\u001b[39;00m \u001b[43mf\u001b[49m\u001b[43m[\u001b[49m\u001b[43ms\u001b[49m\u001b[43m[\u001b[49m\u001b[43mi\u001b[49m\u001b[43m]\u001b[49m\u001b[43m]\u001b[49m\n\u001b[32m     16\u001b[39m         i=+\u001b[32m1\u001b[39m\n\u001b[32m     17\u001b[39m j+=\u001b[32m1\u001b[39m\n",
      "\u001b[31mKeyError\u001b[39m: 'D'"
     ]
    }
   ],
   "source": [
    "# 76. Minimum Window Substring\n",
    "\n",
    "s = \"ADOBECODEBANC\"\n",
    "t = \"ABC\"\n",
    "\n",
    "i,j=0,0\n",
    "k=0\n",
    "min_len=1000\n",
    "f={}\n",
    "while(j<len(s)):\n",
    "    if s[j] in f:\n",
    "        f[s[j]]+=1\n",
    "        j+=1\n",
    "    else:\n",
    "        if s[j] in t:\n",
    "            f[s[j]]=1\n",
    "        if len(f)==len(t):\n",
    "            while (len(f)==len(t)):\n",
    "                if s[i] in t:\n",
    "                    f[s[i]]-=1\n",
    "                    if f[s[i]]<=0:\n",
    "                        del f[s[i]]\n",
    "                if min_len> (j-i):\n",
    "                    min_len=j-i\n",
    "                    min_i=i\n",
    "                    min_j=j\n",
    "                i+=1\n",
    "        j+=1\n",
    "\n",
    "\n",
    "print(s[min_i:min_j+1])      \n",
    "\n",
    "                \n",
    "\n",
    "\n",
    "\n"
   ]
  },
  {
   "cell_type": "code",
   "execution_count": 209,
   "id": "b2cf1ffd",
   "metadata": {},
   "outputs": [
    {
     "ename": "KeyboardInterrupt",
     "evalue": "",
     "output_type": "error",
     "traceback": [
      "\u001b[31m---------------------------------------------------------------------------\u001b[39m",
      "\u001b[31mKeyboardInterrupt\u001b[39m                         Traceback (most recent call last)",
      "\u001b[36mCell\u001b[39m\u001b[36m \u001b[39m\u001b[32mIn[209]\u001b[39m\u001b[32m, line 5\u001b[39m\n\u001b[32m      3\u001b[39m i,j=\u001b[32m0\u001b[39m,\u001b[32m1\u001b[39m\n\u001b[32m      4\u001b[39m max_p=\u001b[32m0\u001b[39m\n\u001b[32m----> \u001b[39m\u001b[32m5\u001b[39m \u001b[38;5;28;01mwhile\u001b[39;00m(j<\u001b[38;5;28mlen\u001b[39m(a)):\n\u001b[32m      6\u001b[39m     \u001b[38;5;28;01mif\u001b[39;00m a[j]>a[i]:\n\u001b[32m      7\u001b[39m         \u001b[38;5;28;01mif\u001b[39;00m max_p < (a[j]-a[i]):\n",
      "\u001b[31mKeyboardInterrupt\u001b[39m: "
     ]
    }
   ],
   "source": [
    "a=[7,1,2,3,4,5,6,2]\n",
    "\n",
    "i,j=0,1\n",
    "max_p=0\n",
    "while(j<len(a)):\n",
    "    if a[j]>a[i]:\n",
    "        if max_p < (a[j]-a[i]):\n",
    "            max_p=(a[j]-a[i])\n",
    "            j+=1\n",
    "    else:\n",
    "        i=j\n",
    "        j+=1\n",
    "max_p"
   ]
  },
  {
   "cell_type": "code",
   "execution_count": 220,
   "id": "ea96a0d1",
   "metadata": {},
   "outputs": [],
   "source": [
    "import re\n",
    "\n",
    "s='Abhishek=Student Bhago=housewife'\n",
    "\n",
    "pattern=r'(?:[a-zA-z]+)=([a-zA-z]+)'\n",
    "\n",
    "match=re.findall(pattern,s)"
   ]
  },
  {
   "cell_type": "code",
   "execution_count": 1,
   "id": "e3649154",
   "metadata": {},
   "outputs": [
    {
     "name": "stdout",
     "output_type": "stream",
     "text": [
      "Ahi\n"
     ]
    }
   ],
   "source": [
    "i,j,k=1,2,3\n",
    "print(f\"Ahi\")"
   ]
  },
  {
   "cell_type": "code",
   "execution_count": 6,
   "id": "e25d3253",
   "metadata": {},
   "outputs": [
    {
     "name": "stdout",
     "output_type": "stream",
     "text": [
      "0 1 3\n"
     ]
    }
   ],
   "source": [
    "arr=[1, 4, 45, 6, 10, 8]\n",
    "s=13\n",
    "arr.sort()\n",
    "for i in range(0,len(arr)):\n",
    "    j,k=i+1,len(arr)-1\n",
    "    while(j<k):\n",
    "        if arr[j]+arr[k]==s-arr[i]:\n",
    "            print(i,j,k)\n",
    "            break\n",
    "            \n",
    "        elif arr[j]+arr[k]>s-arr[i]:\n",
    "            k-=1\n",
    "        else:\n",
    "            j+=1"
   ]
  },
  {
   "cell_type": "code",
   "execution_count": 10,
   "id": "26501e6f",
   "metadata": {},
   "outputs": [
    {
     "data": {
      "text/plain": [
       "6"
      ]
     },
     "execution_count": 10,
     "metadata": {},
     "output_type": "execute_result"
    }
   ],
   "source": [
    "n,x,y,z=10,2,4,2\n",
    "\n",
    "def cut_rod(n):\n",
    "    if(n==0):\n",
    "        return 1\n",
    "    \n",
    "    if(n<0):\n",
    "        return 0\n",
    "\n",
    "    count=1+max(cut_rod(n-x),cut_rod(n-y),cut_rod(n-z))\n",
    "    return count\n",
    "\n",
    "cut_rod(n)"
   ]
  },
  {
   "cell_type": "code",
   "execution_count": 4,
   "id": "ccfcd030",
   "metadata": {},
   "outputs": [
    {
     "data": {
      "text/plain": [
       "'A4B2C1D6'"
      ]
     },
     "execution_count": 4,
     "metadata": {},
     "output_type": "execute_result"
    }
   ],
   "source": [
    "s='AAAABBCDDDDDD'\n",
    "sol=''\n",
    "i,j=0,1\n",
    "\n",
    "while(j<len(s)):\n",
    "    if j==len(s)-1:\n",
    "        sol=sol+s[i]+str(j-i+1)\n",
    "        break\n",
    "    if s[j]==s[i]:\n",
    "        j+=1\n",
    "    else:\n",
    "        sol=sol+s[i]+str(j-i)\n",
    "        i=j\n",
    "        j+=1\n",
    "\n",
    "sol\n",
    "\n"
   ]
  }
 ],
 "metadata": {
  "kernelspec": {
   "display_name": "Python 3",
   "language": "python",
   "name": "python3"
  },
  "language_info": {
   "codemirror_mode": {
    "name": "ipython",
    "version": 3
   },
   "file_extension": ".py",
   "mimetype": "text/x-python",
   "name": "python",
   "nbconvert_exporter": "python",
   "pygments_lexer": "ipython3",
   "version": "3.11.9"
  }
 },
 "nbformat": 4,
 "nbformat_minor": 5
}
