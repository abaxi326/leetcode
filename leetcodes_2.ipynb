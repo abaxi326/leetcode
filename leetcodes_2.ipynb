{
 "cells": [
  {
   "cell_type": "markdown",
   "id": "13d3f86f",
   "metadata": {},
   "source": [
    "Fruits in the basket"
   ]
  },
  {
   "cell_type": "code",
   "execution_count": null,
   "id": "b084a7e0",
   "metadata": {},
   "outputs": [
    {
     "name": "stdout",
     "output_type": "stream",
     "text": [
      "0\n",
      "1\n",
      "2\n"
     ]
    },
    {
     "data": {
      "text/plain": [
       "0"
      ]
     },
     "execution_count": 7,
     "metadata": {},
     "output_type": "execute_result"
    }
   ],
   "source": [
    "fruits = [0,1,2]\n",
    "\n",
    "i,j=0,0\n",
    "m={}\n",
    "max=0\n",
    "sum=0\n",
    "while (j<len(fruits)):\n",
    "    print(len(m))\n",
    "    if len(m)>2:\n",
    "        while len(m)>2:\n",
    "            if m[fruits[i]]==0:\n",
    "                del m[fruits[i]]\n",
    "                sum=sum-1\n",
    "        i+=1\n",
    "            else:\n",
    "                m[fruits[i]]-=1\n",
    "                sum=sum-1\n",
    "                if m[fruits[i]]==0:\n",
    "                    del m[fruits[i]]\n",
    "                    i+=1\n",
    "\n",
    "\n",
    "    elif fruits[j] in m:\n",
    "        m[fruits[j]]+=1\n",
    "        sum=sum+1\n",
    "        if max<sum:\n",
    "            max=sum\n",
    "        j+=1\n",
    "    else:\n",
    "        m[fruits[j]]=1\n",
    "        sum=sum+1\n",
    "        j+=1\n",
    "\n",
    "\n",
    "max\n",
    "\n"
   ]
  },
  {
   "cell_type": "code",
   "execution_count": null,
   "id": "32ed2a97",
   "metadata": {},
   "outputs": [
    {
     "data": {
      "text/plain": [
       "2"
      ]
     },
     "execution_count": 5,
     "metadata": {},
     "output_type": "execute_result"
    }
   ],
   "source": [
    "nums = [2,4,1,1,6,5]\n",
    "cnt=0\n",
    "\n",
    "for i in range(1,len(nums)-1):\n",
    "    if nums[i]> nums[i-1] and nums[i]>nums[i+1]:\n",
    "        cnt+=1\n",
    "    elif :\n",
    "    \n"
   ]
  },
  {
   "cell_type": "code",
   "execution_count": 18,
   "id": "e0972c12",
   "metadata": {},
   "outputs": [
    {
     "name": "stdout",
     "output_type": "stream",
     "text": [
      "20\n",
      "20\n",
      "30\n",
      "30\n"
     ]
    },
    {
     "data": {
      "text/plain": [
       "100"
      ]
     },
     "execution_count": 18,
     "metadata": {},
     "output_type": "execute_result"
    }
   ],
   "source": [
    "difficulty = [2,4,6,8,10]\n",
    "profit = [10,20,30,40,50]\n",
    "worker = [4,5,6,7]\n",
    "jobs=sorted(zip(difficulty,profit))\n",
    "profit=0\n",
    "\n",
    "\n",
    "for w in worker:\n",
    "    best=0\n",
    "    i=0\n",
    "    while i < len(jobs) and w>=jobs[i][0]:\n",
    "        if best< jobs[i][1]:\n",
    "            best=jobs[i][1]\n",
    "        \n",
    "        i=i+1\n",
    "    print(best)\n",
    "    profit+=best\n",
    "\n",
    "profit\n"
   ]
  },
  {
   "cell_type": "markdown",
   "id": "a261174c",
   "metadata": {},
   "source": [
    "Peak element:\n",
    "A peak element is an element that is strictly greater than its neighbors.\n",
    "\n",
    "Given a 0-indexed integer array nums, find a peak element, and return its index. If the array contains multiple peaks, return the index to any of the peaks.\n",
    "\n",
    "You may imagine that nums[-1] = nums[n] = -∞. In other words, an element is always considered to be strictly greater than a neighbor that is outside the array.\n",
    "\n",
    "You must write an algorithm that runs in O(log n) time."
   ]
  },
  {
   "cell_type": "code",
   "execution_count": 23,
   "id": "9b918a8d",
   "metadata": {},
   "outputs": [
    {
     "data": {
      "text/plain": [
       "2"
      ]
     },
     "execution_count": 23,
     "metadata": {},
     "output_type": "execute_result"
    }
   ],
   "source": [
    "arr = [1,2,3,1]\n",
    "\n",
    "n=len(arr)\n",
    "sol=0\n",
    "if arr[0]>arr[1]:\n",
    "    sol= 0\n",
    "elif arr[n-1]>arr[n-2]:\n",
    "    sol=n-1\n",
    "\n",
    "lo,hi=1,n-2\n",
    "while (lo<=hi):\n",
    "    \n",
    "    mid=(lo + hi)//2\n",
    "    if arr[mid]>arr[mid+1] and arr[mid]>arr[mid-1]:\n",
    "        sol=mid\n",
    "    if arr[mid]> arr[mid+1]:\n",
    "        hi=mid-1\n",
    "    else:\n",
    "        lo=mid+1\n",
    "sol\n"
   ]
  },
  {
   "cell_type": "markdown",
   "id": "450222fa",
   "metadata": {},
   "source": [
    "Minimum Size Subarray Sum\n",
    "\n",
    "Given an array of positive integers nums and a positive integer target, return the minimal length of a subarray whose sum is greater than or equal to target. If there is no such subarray, return 0 instead."
   ]
  },
  {
   "cell_type": "code",
   "execution_count": 1,
   "id": "3a7ea4a4",
   "metadata": {},
   "outputs": [
    {
     "data": {
      "text/plain": [
       "1"
      ]
     },
     "execution_count": 1,
     "metadata": {},
     "output_type": "execute_result"
    }
   ],
   "source": [
    "nums = [1,2,3,4,5]\n",
    "sum=0\n",
    "n=11\n",
    "i,j=0,0\n",
    "sol=1000\n",
    "while (j<len(nums)):\n",
    "    if nums[j]>=n:\n",
    "        sol=1\n",
    "        break\n",
    "    else:\n",
    "        sum=sum+nums[j]\n",
    "        while (sum>=n):\n",
    "            sum=sum-nums[i]\n",
    "            i+=1\n",
    "            sol=min(sol,(j-i))\n",
    "        j+=1\n",
    "sol\n",
    "\n",
    "\n"
   ]
  },
  {
   "cell_type": "markdown",
   "id": "c698fc77",
   "metadata": {},
   "source": [
    "Given two integer arrays nums1 and nums2, return an array of their intersection. Each element in the result must be unique and you may return the result in any order."
   ]
  },
  {
   "cell_type": "code",
   "execution_count": 5,
   "id": "2ae5cc18",
   "metadata": {},
   "outputs": [
    {
     "data": {
      "text/plain": [
       "[2]"
      ]
     },
     "execution_count": 5,
     "metadata": {},
     "output_type": "execute_result"
    }
   ],
   "source": [
    "nums1 = [1,2,2,1]\n",
    "nums2 = [2,2]\n",
    "\n",
    "list(set(nums1) & set(nums2))"
   ]
  },
  {
   "cell_type": "code",
   "execution_count": 12,
   "id": "327e2f4e",
   "metadata": {},
   "outputs": [
    {
     "name": "stdout",
     "output_type": "stream",
     "text": [
      "2\n"
     ]
    },
    {
     "data": {
      "text/plain": [
       "{0: 1, 1: 1, 2: 0}"
      ]
     },
     "execution_count": 12,
     "metadata": {},
     "output_type": "execute_result"
    }
   ],
   "source": [
    "m={}\n",
    "nums = [0,1]\n",
    "n=len(nums)\n",
    "for i in range(0,n+1):\n",
    "    m[i]=0\n",
    "        \n",
    "for i in nums:\n",
    "    m[i]=1\n",
    "        \n",
    "for i in m:\n",
    "    if m[i]==0:\n",
    "        print(i)\n",
    "m"
   ]
  },
  {
   "cell_type": "markdown",
   "id": "c1984cad",
   "metadata": {},
   "source": [
    "Given an array of integers nums and an integer k, return the number of unique k-diff pairs in the array.\n"
   ]
  },
  {
   "cell_type": "code",
   "execution_count": 27,
   "id": "c01ccd90",
   "metadata": {},
   "outputs": [
    {
     "data": {
      "text/plain": [
       "1"
      ]
     },
     "execution_count": 27,
     "metadata": {},
     "output_type": "execute_result"
    }
   ],
   "source": [
    "nums = [1,1,1,1,1]\n",
    "t= 0\n",
    "\n",
    "cnt=0\n",
    "nums.sort()\n",
    "sol=set()\n",
    "\n",
    "i,j=0,1\n",
    "\n",
    "while j < len(nums):\n",
    "    if i==j:\n",
    "        j+=1\n",
    "        continue\n",
    "    if nums[j]-nums[i]<t:\n",
    "        j+=1\n",
    "    elif nums[j]-nums[i]>t:\n",
    "        i+=1\n",
    "    else:\n",
    "        sol.add((nums[j],nums[i]))\n",
    "        i+=1\n",
    "        j+=1\n",
    "\n",
    "len(sol)\n",
    "\n"
   ]
  },
  {
   "cell_type": "code",
   "execution_count": 23,
   "id": "3141e568",
   "metadata": {},
   "outputs": [],
   "source": [
    "class Solution:\n",
    "    def findPairs(self, nums, t):\n",
    "        cnt=0\n",
    "        nums.sort()\n",
    "\n",
    "\n",
    "        i,j=0,1\n",
    "\n",
    "        while j < len(nums):\n",
    "            if i==j:\n",
    "                j+=1\n",
    "                continue\n",
    "            if nums[j]-nums[i]<t:\n",
    "                j+=1\n",
    "            elif nums[j]-nums[i]>t:\n",
    "                i+=1\n",
    "            else:\n",
    "                cnt+=1\n",
    "                i+=1\n",
    "                j+=1\n",
    "\n",
    "        return cnt\n",
    "        "
   ]
  },
  {
   "cell_type": "markdown",
   "id": "fa23dfed",
   "metadata": {},
   "source": [
    "You are given two strings s and t of the same length and an integer maxCost.\n",
    "\n",
    "You want to change s to t. Changing the ith character of s to ith character of t costs |s[i] - t[i]| (i.e., the absolute difference between the ASCII values of the characters).\n",
    "\n",
    "Return the maximum length of a substring of s that can be changed to be the same as the corresponding substring of t with a cost less than or equal to maxCost. If there is no substring from s that can be changed to its corresponding substring from t, return 0."
   ]
  },
  {
   "cell_type": "code",
   "execution_count": 37,
   "id": "9a76ee76",
   "metadata": {},
   "outputs": [
    {
     "name": "stdout",
     "output_type": "stream",
     "text": [
      "[3, 6, 15, 11, 3, 9, 8, 15, 22, 10, 3, 7, 3, 4, 0]\n"
     ]
    },
    {
     "data": {
      "text/plain": [
       "3"
      ]
     },
     "execution_count": 37,
     "metadata": {},
     "output_type": "execute_result"
    }
   ],
   "source": [
    "s = \"krpgjbjjznpzdfy\"\n",
    "t = \"nxargkbydxmsgby\"\n",
    "maxCost = 14\n",
    "\n",
    "diff=[]\n",
    "\n",
    "for i in range(len(s)):\n",
    "    d=abs(ord(s[i])-ord(t[i]))\n",
    "    diff.append(d)\n",
    "print(diff)\n",
    "m=0\n",
    "sum=0\n",
    "i,j=0,0\n",
    "while(j<len(diff)):\n",
    "    while(sum>=maxCost):\n",
    "        sum=sum-diff[i]\n",
    "        i+=1\n",
    "    \n",
    "    sum=sum+diff[j]\n",
    "    j+=1\n",
    "    if sum<=maxCost:\n",
    "        m=max(m,(j-i))\n",
    "\n",
    "m"
   ]
  },
  {
   "cell_type": "markdown",
   "id": "bbeb765e",
   "metadata": {},
   "source": [
    "Given two strings s1 and s2, return true if s2 contains a permutation of s1, or false otherwise.\n",
    "\n",
    "In other words, return true if one of s1's permutations is the substring of s2."
   ]
  },
  {
   "cell_type": "code",
   "execution_count": 8,
   "id": "eee3c5fe",
   "metadata": {},
   "outputs": [],
   "source": [
    "s1 = \"adc\"\n",
    "s2 = \"dcda\"\n",
    "\n",
    "i,j=0,0\n",
    "m={}\n",
    "for k in s1:\n",
    "    if k in m:\n",
    "        m[k]+=1\n",
    "    else:\n",
    "        m[k]=1\n",
    "cnt=0\n",
    "mc=m.copy()\n",
    "\n",
    "while(j<len(s2)):\n",
    "    if s2[j] in s1:\n",
    "        sum=0\n",
    "        cnt+=1\n",
    "        if s2[j] in m and m[s2[j]]>0:\n",
    "            m[s2[j]]-=1\n",
    "        for k in m:\n",
    "            sum=sum+m[k]\n",
    "        if sum==0 and (j-i)+1==len(s1):\n",
    "            print('True')\n",
    "        j+=1\n",
    "            \n",
    "    else:\n",
    "        cnt=0\n",
    "        m=mc.copy()\n",
    "        j+=1\n",
    "        i=j\n",
    "\n"
   ]
  },
  {
   "cell_type": "code",
   "execution_count": null,
   "id": "11de40f8",
   "metadata": {},
   "outputs": [
    {
     "ename": "KeyError",
     "evalue": "'e'",
     "output_type": "error",
     "traceback": [
      "\u001b[31m---------------------------------------------------------------------------\u001b[39m",
      "\u001b[31mKeyError\u001b[39m                                  Traceback (most recent call last)",
      "\u001b[36mCell\u001b[39m\u001b[36m \u001b[39m\u001b[32mIn[10]\u001b[39m\u001b[32m, line 23\u001b[39m\n\u001b[32m     21\u001b[39m \u001b[38;5;28;01mif\u001b[39;00m s2[j] \u001b[38;5;129;01min\u001b[39;00m s1:\n\u001b[32m     22\u001b[39m     m2[s2[j]]+=\u001b[32m1\u001b[39m\n\u001b[32m---> \u001b[39m\u001b[32m23\u001b[39m \u001b[43mm2\u001b[49m\u001b[43m[\u001b[49m\u001b[43ms2\u001b[49m\u001b[43m[\u001b[49m\u001b[43mi\u001b[49m\u001b[43m]\u001b[49m\u001b[43m]\u001b[49m-=\u001b[32m1\u001b[39m\n\u001b[32m     24\u001b[39m i+=\u001b[32m1\u001b[39m\n",
      "\u001b[31mKeyError\u001b[39m: 'e'"
     ]
    },
    {
     "ename": "",
     "evalue": "",
     "output_type": "error",
     "traceback": [
      "\u001b[1;31mThe Kernel crashed while executing code in the current cell or a previous cell. \n",
      "\u001b[1;31mPlease review the code in the cell(s) to identify a possible cause of the failure. \n",
      "\u001b[1;31mClick <a href='https://aka.ms/vscodeJupyterKernelCrash'>here</a> for more info. \n",
      "\u001b[1;31mView Jupyter <a href='command:jupyter.viewOutput'>log</a> for further details."
     ]
    }
   ],
   "source": [
    "s1 = \"ab\"\n",
    "s2 = \"eidbaooo\"\n",
    "m1={}\n",
    "m2={}\n",
    "for k in s1:\n",
    "    if k in m1:\n",
    "        m1[k]+=1\n",
    "    else:\n",
    "        m1[k]=1\n",
    "\n",
    "i,j=0,len(s1)-1\n",
    "for k in range(i,j):\n",
    "   if s2[k] in s1:\n",
    "       m2[s2[k]]+=1\n",
    "\n",
    "while(j<len(s2)):\n",
    "    if m2==m1:\n",
    "        print('True')\n",
    "    \n",
    "    j+=1\n",
    "    if s2[j] in s1:\n",
    "        m2[s2[j]]+=1\n",
    "    m2[s2[i]]-=1\n",
    "    i+=1\n",
    "\n"
   ]
  },
  {
   "cell_type": "code",
   "execution_count": 4,
   "id": "5c5ed85f",
   "metadata": {},
   "outputs": [
    {
     "data": {
      "text/plain": [
       "2"
      ]
     },
     "execution_count": 4,
     "metadata": {},
     "output_type": "execute_result"
    }
   ],
   "source": [
    "target = 7\n",
    "nums = [2,3,1,2,4,3]\n",
    "\n",
    "i,j=0,0\n",
    "sum=0\n",
    "sol=1000\n",
    "while(j<len(nums)):\n",
    "    if sum==target:\n",
    "        sol=min(sol,j-i)\n",
    "    sum=sum+nums[j]\n",
    "    \n",
    "    while(sum>target):\n",
    "        sum=sum-nums[i]\n",
    "        if sum==target:\n",
    "            sol=min(sol,j-i)\n",
    "        \n",
    "        i+=1\n",
    "    j+=1\n",
    "\n",
    "sol"
   ]
  },
  {
   "cell_type": "code",
   "execution_count": null,
   "id": "4e6d304b",
   "metadata": {},
   "outputs": [
    {
     "data": {
      "text/plain": [
       "1.25"
      ]
     },
     "execution_count": 10,
     "metadata": {},
     "output_type": "execute_result"
    }
   ],
   "source": [
    "sol=0\n",
    "nums = [0,1,1,3,3]\n",
    "k = 4\n",
    "sum=0\n",
    "i,j=0,4\n",
    "for t in range(0,k):\n",
    "    sum=sum+nums[t]\n",
    "while(j<len(nums)):\n",
    "    sol=max(sol,sum/k)\n",
    "    sum=sum+nums[j]-nums[i]\n",
    "    j+=1\n",
    "    i+=1\n",
    "sol"
   ]
  }
 ],
 "metadata": {
  "kernelspec": {
   "display_name": "Python 3",
   "language": "python",
   "name": "python3"
  },
  "language_info": {
   "codemirror_mode": {
    "name": "ipython",
    "version": 3
   },
   "file_extension": ".py",
   "mimetype": "text/x-python",
   "name": "python",
   "nbconvert_exporter": "python",
   "pygments_lexer": "ipython3",
   "version": "3.11.9"
  }
 },
 "nbformat": 4,
 "nbformat_minor": 5
}
