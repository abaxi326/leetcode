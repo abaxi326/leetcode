{
 "cells": [
  {
   "cell_type": "markdown",
   "id": "13d3f86f",
   "metadata": {},
   "source": [
    "Fruits in the basket"
   ]
  },
  {
   "cell_type": "code",
   "execution_count": 7,
   "id": "b084a7e0",
   "metadata": {},
   "outputs": [
    {
     "name": "stdout",
     "output_type": "stream",
     "text": [
      "0\n",
      "1\n",
      "2\n"
     ]
    },
    {
     "data": {
      "text/plain": [
       "0"
      ]
     },
     "execution_count": 7,
     "metadata": {},
     "output_type": "execute_result"
    }
   ],
   "source": [
    "fruits = [0,1,2]\n",
    "\n",
    "i,j=0,0\n",
    "m={}\n",
    "max=0\n",
    "sum=0\n",
    "while (j<len(fruits)):\n",
    "    print(len(m))\n",
    "    if len(m)>2:\n",
    "        while len(m)>2:\n",
    "            if m[fruits[i]]==0:\n",
    "                del m[fruits[i]]\n",
    "                sum=sum-1\n",
    "                i+=1\n",
    "            else:\n",
    "                m[fruits[i]]-=1\n",
    "                sum=sum-1\n",
    "                if m[fruits[i]]==0:\n",
    "                    del m[fruits[i]]\n",
    "                    i+=1\n",
    "\n",
    "\n",
    "    elif fruits[j] in m:\n",
    "        m[fruits[j]]+=1\n",
    "        sum=sum+1\n",
    "        if max<sum:\n",
    "            max=sum\n",
    "        j+=1\n",
    "    else:\n",
    "        m[fruits[j]]=1\n",
    "        sum=sum+1\n",
    "        j+=1\n",
    "\n",
    "\n",
    "max\n",
    "\n"
   ]
  },
  {
   "cell_type": "code",
   "execution_count": null,
   "id": "32ed2a97",
   "metadata": {},
   "outputs": [
    {
     "data": {
      "text/plain": [
       "2"
      ]
     },
     "execution_count": 5,
     "metadata": {},
     "output_type": "execute_result"
    }
   ],
   "source": [
    "nums = [2,4,1,1,6,5]\n",
    "cnt=0\n",
    "\n",
    "for i in range(1,len(nums)-1):\n",
    "    if nums[i]> nums[i-1] and nums[i]>nums[i+1]:\n",
    "        cnt+=1\n",
    "    elif :\n",
    "    \n"
   ]
  },
  {
   "cell_type": "code",
   "execution_count": 18,
   "id": "e0972c12",
   "metadata": {},
   "outputs": [
    {
     "name": "stdout",
     "output_type": "stream",
     "text": [
      "20\n",
      "20\n",
      "30\n",
      "30\n"
     ]
    },
    {
     "data": {
      "text/plain": [
       "100"
      ]
     },
     "execution_count": 18,
     "metadata": {},
     "output_type": "execute_result"
    }
   ],
   "source": [
    "difficulty = [2,4,6,8,10]\n",
    "profit = [10,20,30,40,50]\n",
    "worker = [4,5,6,7]\n",
    "jobs=sorted(zip(difficulty,profit))\n",
    "profit=0\n",
    "\n",
    "\n",
    "for w in worker:\n",
    "    best=0\n",
    "    i=0\n",
    "    while i < len(jobs) and w>=jobs[i][0]:\n",
    "        if best< jobs[i][1]:\n",
    "            best=jobs[i][1]\n",
    "        \n",
    "        i=i+1\n",
    "    print(best)\n",
    "    profit+=best\n",
    "\n",
    "profit\n"
   ]
  },
  {
   "cell_type": "markdown",
   "id": "a261174c",
   "metadata": {},
   "source": [
    "Peak element:\n",
    "A peak element is an element that is strictly greater than its neighbors.\n",
    "\n",
    "Given a 0-indexed integer array nums, find a peak element, and return its index. If the array contains multiple peaks, return the index to any of the peaks.\n",
    "\n",
    "You may imagine that nums[-1] = nums[n] = -∞. In other words, an element is always considered to be strictly greater than a neighbor that is outside the array.\n",
    "\n",
    "You must write an algorithm that runs in O(log n) time."
   ]
  },
  {
   "cell_type": "code",
   "execution_count": 23,
   "id": "9b918a8d",
   "metadata": {},
   "outputs": [
    {
     "data": {
      "text/plain": [
       "2"
      ]
     },
     "execution_count": 23,
     "metadata": {},
     "output_type": "execute_result"
    }
   ],
   "source": [
    "arr = [1,2,3,1]\n",
    "\n",
    "n=len(arr)\n",
    "sol=0\n",
    "if arr[0]>arr[1]:\n",
    "    sol= 0\n",
    "elif arr[n-1]>arr[n-2]:\n",
    "    sol=n-1\n",
    "\n",
    "lo,hi=1,n-2\n",
    "while (lo<=hi):\n",
    "    \n",
    "    mid=(lo + hi)//2\n",
    "    if arr[mid]>arr[mid+1] and arr[mid]>arr[mid-1]:\n",
    "        sol=mid\n",
    "    if arr[mid]> arr[mid+1]:\n",
    "        hi=mid-1\n",
    "    else:\n",
    "        lo=mid+1\n",
    "sol\n"
   ]
  },
  {
   "cell_type": "markdown",
   "id": "450222fa",
   "metadata": {},
   "source": [
    "Minimum Size Subarray Sum\n",
    "\n",
    "Given an array of positive integers nums and a positive integer target, return the minimal length of a subarray whose sum is greater than or equal to target. If there is no such subarray, return 0 instead."
   ]
  },
  {
   "cell_type": "code",
   "execution_count": 35,
   "id": "3a7ea4a4",
   "metadata": {},
   "outputs": [
    {
     "data": {
      "text/plain": [
       "1"
      ]
     },
     "execution_count": 35,
     "metadata": {},
     "output_type": "execute_result"
    }
   ],
   "source": [
    "nums = [1,2,3,4,5]\n",
    "sum=0\n",
    "n=11\n",
    "i,j=0,0\n",
    "sol=1000\n",
    "while (j<len(nums)):\n",
    "    if nums[j]>=n:\n",
    "        sol=1\n",
    "        break\n",
    "    else:\n",
    "        sum=sum+nums[j]\n",
    "        while (sum>=n):\n",
    "            sum=sum-nums[i]\n",
    "            i+=1\n",
    "            sol=min(sol,(j-i))\n",
    "        j+=1\n",
    "sol\n",
    "\n",
    "\n"
   ]
  }
 ],
 "metadata": {
  "kernelspec": {
   "display_name": "Python 3",
   "language": "python",
   "name": "python3"
  },
  "language_info": {
   "codemirror_mode": {
    "name": "ipython",
    "version": 3
   },
   "file_extension": ".py",
   "mimetype": "text/x-python",
   "name": "python",
   "nbconvert_exporter": "python",
   "pygments_lexer": "ipython3",
   "version": "3.11.9"
  }
 },
 "nbformat": 4,
 "nbformat_minor": 5
}
